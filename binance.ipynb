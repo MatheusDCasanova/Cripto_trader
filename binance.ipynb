{
 "cells": [
  {
   "cell_type": "code",
   "execution_count": 4,
   "metadata": {},
   "outputs": [],
   "source": [
    "import time"
   ]
  },
  {
   "cell_type": "code",
   "execution_count": 5,
   "metadata": {},
   "outputs": [],
   "source": [
    "import pandas as pd\n",
    "import sqlalchemy\n",
    "from binance.client import Client\n",
    "from binance import BinanceSocketManager"
   ]
  },
  {
   "cell_type": "code",
   "execution_count": 9,
   "metadata": {},
   "outputs": [
    {
     "data": {
      "text/plain": [
       "'mJRjVZ1KVpsSZOpcrabUnXLFd5vryGNEqlxh7JwOkXNgrhzL1fxBuZXl4UeosZEP'"
      ]
     },
     "execution_count": 9,
     "metadata": {},
     "output_type": "execute_result"
    }
   ],
   "source": [
    "with open(\"api.txt\", 'r') as file:\n",
    "    api_key = file.readline().replace('\\n','')\n",
    "    api_secret = file.readline()\n",
    "\n",
    "api_key"
   ]
  },
  {
   "cell_type": "code",
   "execution_count": 11,
   "metadata": {},
   "outputs": [],
   "source": [
    "client = Client(api_key, api_secret)"
   ]
  },
  {
   "cell_type": "code",
   "execution_count": 12,
   "metadata": {},
   "outputs": [],
   "source": [
    "bsm = BinanceSocketManager(client)"
   ]
  },
  {
   "cell_type": "code",
   "execution_count": 13,
   "metadata": {},
   "outputs": [],
   "source": [
    "socket = bsm.trade_socket('BTCUSDT')"
   ]
  },
  {
   "cell_type": "code",
   "execution_count": 17,
   "metadata": {},
   "outputs": [
    {
     "name": "stdout",
     "output_type": "stream",
     "text": [
      "    symbol                    Time     Price\n",
      "0  BTCUSDT 2022-10-15 04:55:59.247  19190.53\n",
      "    symbol                    Time     Price\n",
      "0  BTCUSDT 2022-10-15 04:55:59.250  19190.54\n",
      "    symbol                    Time     Price\n",
      "0  BTCUSDT 2022-10-15 04:55:59.257  19190.48\n",
      "    symbol                    Time     Price\n",
      "0  BTCUSDT 2022-10-15 04:55:59.257  19190.48\n",
      "    symbol                    Time     Price\n",
      "0  BTCUSDT 2022-10-15 04:55:59.295  19190.91\n",
      "    symbol                    Time     Price\n",
      "0  BTCUSDT 2022-10-15 04:55:59.295  19190.96\n",
      "    symbol                    Time     Price\n",
      "0  BTCUSDT 2022-10-15 04:55:59.295  19190.99\n",
      "    symbol                    Time     Price\n",
      "0  BTCUSDT 2022-10-15 04:55:59.331  19190.98\n",
      "    symbol                    Time     Price\n",
      "0  BTCUSDT 2022-10-15 04:55:59.349  19190.49\n",
      "    symbol                    Time     Price\n",
      "0  BTCUSDT 2022-10-15 04:55:59.597  19190.48\n",
      "    symbol                    Time     Price\n",
      "0  BTCUSDT 2022-10-15 04:55:59.658  19190.49\n",
      "    symbol                    Time     Price\n",
      "0  BTCUSDT 2022-10-15 04:55:59.696  19190.48\n",
      "    symbol                    Time     Price\n",
      "0  BTCUSDT 2022-10-15 04:55:59.789  19190.49\n",
      "    symbol                    Time     Price\n",
      "0  BTCUSDT 2022-10-15 04:55:59.879  19190.95\n",
      "    symbol                    Time     Price\n",
      "0  BTCUSDT 2022-10-15 04:55:59.896  19190.95\n",
      "    symbol                    Time     Price\n",
      "0  BTCUSDT 2022-10-15 04:55:59.934  19190.96\n",
      "    symbol                    Time     Price\n",
      "0  BTCUSDT 2022-10-15 04:55:59.946  19190.96\n",
      "    symbol                    Time     Price\n",
      "0  BTCUSDT 2022-10-15 04:55:59.946  19190.97\n",
      "    symbol                    Time     Price\n",
      "0  BTCUSDT 2022-10-15 04:55:59.946  19190.48\n",
      "    symbol                    Time     Price\n",
      "0  BTCUSDT 2022-10-15 04:55:59.946  19190.48\n",
      "    symbol                    Time     Price\n",
      "0  BTCUSDT 2022-10-15 04:55:59.946  19190.37\n",
      "    symbol                    Time     Price\n",
      "0  BTCUSDT 2022-10-15 04:55:59.946  19190.97\n",
      "    symbol                    Time     Price\n",
      "0  BTCUSDT 2022-10-15 04:55:59.946  19190.97\n",
      "    symbol                    Time     Price\n",
      "0  BTCUSDT 2022-10-15 04:55:59.949  19190.97\n",
      "    symbol                    Time     Price\n",
      "0  BTCUSDT 2022-10-15 04:55:59.951  19190.95\n",
      "    symbol                    Time     Price\n",
      "0  BTCUSDT 2022-10-15 04:55:59.951  19190.37\n"
     ]
    }
   ],
   "source": [
    "n_max = 0\n",
    "while n_max < 100:\n",
    "    start_time = time.time()\n",
    "    await socket.__aenter__()\n",
    "    msg = await socket.recv()\n",
    "    df = createframe(msg)\n",
    "    df.to_sql('BTCUSDT', engine, if_exists='append', index = False)\n",
    "    print(df)\n",
    "    n_max += 1"
   ]
  },
  {
   "cell_type": "code",
   "execution_count": 15,
   "metadata": {},
   "outputs": [],
   "source": [
    "def createframe(msg):\n",
    "    df = pd.DataFrame([msg])\n",
    "    df = df.loc[:, ['s', 'E', 'p']]\n",
    "    df.columns = ['symbol', 'Time', 'Price']\n",
    "    df.Price = df.Price.astype(float)\n",
    "    df.Time = pd.to_datetime(df.Time, unit='ms')\n",
    "    return df"
   ]
  },
  {
   "cell_type": "code",
   "execution_count": 14,
   "metadata": {},
   "outputs": [],
   "source": [
    "engine = sqlalchemy.create_engine('sqlite:///BTCUSDTstream1st.db')"
   ]
  }
 ],
 "metadata": {
  "kernelspec": {
   "display_name": "Python 3.10.2 64-bit",
   "language": "python",
   "name": "python3"
  },
  "language_info": {
   "codemirror_mode": {
    "name": "ipython",
    "version": 3
   },
   "file_extension": ".py",
   "mimetype": "text/x-python",
   "name": "python",
   "nbconvert_exporter": "python",
   "pygments_lexer": "ipython3",
   "version": "3.10.2"
  },
  "orig_nbformat": 4,
  "vscode": {
   "interpreter": {
    "hash": "8d3e54fe3ce154e32ac346abb9a52721706f8b6192d2a6d9e7d1f2a1d569502c"
   }
  }
 },
 "nbformat": 4,
 "nbformat_minor": 2
}
